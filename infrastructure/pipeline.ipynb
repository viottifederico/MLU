{
 "cells": [
  {
   "cell_type": "code",
   "execution_count": null,
   "metadata": {},
   "outputs": [],
   "source": [
    "# install virgin environment\n",
    "!odsc conda install --uri <oci://my-bucket@my-namespace/path_to_tar_file>\n",
    "\n",
    "# modify environment\n",
    "!pip install ...\n",
    "\n",
    "# publish in project-specific bucket final env with project-specific name\n",
    "!odsc conda init -b <proj-specific-bucket-name> -n <your-tenancy-namespace> -a resource_principal\n",
    "!odsc conda publish -s <slug> --force"
   ]
  },
  {
   "cell_type": "markdown",
   "metadata": {},
   "source": [
    "Here we have to define the infrastructure operations for the first deploy and maybe the update of the infrastructure if a re-deploy is needed\n",
    "\n",
    "* creation of log group and custom log to be used in data science pipeline\n",
    "* creation of data science pipeline --> here we should in future define a wrapper to let data scientist define if to use 1 or more steps\n",
    "* creation of project - task - application - publishing task to application - scheduler - scheduled task\n",
    "\n",
    "in future maybe also add the monitoring of infrastructure"
   ]
  },
  {
   "cell_type": "code",
   "execution_count": 2,
   "metadata": {},
   "outputs": [],
   "source": [
    "import oci\n",
    "from oci.logging.models import CreateLogDetails, UpdateLogDetails, CreateLogGroupDetails\n",
    "import requests\n",
    "import json\n",
    "\n",
    "# Initialize the signer with Resource Principal\n",
    "resource_principal_signer = oci.auth.signers.get_resource_principals_signer()"
   ]
  },
  {
   "cell_type": "markdown",
   "metadata": {},
   "source": [
    "# LOAD CONFIG"
   ]
  },
  {
   "cell_type": "code",
   "execution_count": 4,
   "metadata": {},
   "outputs": [
    {
     "name": "stdout",
     "output_type": "stream",
     "text": [
      "{'compartment_id': 'a', 'b': 'b'}\n"
     ]
    }
   ],
   "source": [
    "with open(\"infra_config.json\", \"r\") as config_file:\n",
    "    config = json.load(config_file)"
   ]
  },
  {
   "cell_type": "markdown",
   "metadata": {},
   "source": [
    "# CLIENT CONFIGURATION"
   ]
  },
  {
   "cell_type": "code",
   "execution_count": null,
   "metadata": {},
   "outputs": [],
   "source": [
    "# Create a logging client with the signer\n",
    "log_client = oci.logging.LoggingManagementClient({}, signer=resource_principal_signer)\n",
    "\n",
    "# Initialize the OCI Data Integration client with the signer\n",
    "data_integration_client = oci.data_integration.DataIntegrationClient({}, signer=resource_principal_signer)"
   ]
  },
  {
   "cell_type": "markdown",
   "metadata": {},
   "source": [
    "# LOGGING STEP"
   ]
  },
  {
   "cell_type": "code",
   "execution_count": null,
   "metadata": {},
   "outputs": [],
   "source": [
    "# Step 1: Create a log group inside the compartment\n",
    "log_group = log_client.create_log_group(\n",
    "    CreateLogGroupDetails(\n",
    "        compartment_id=config['compartment_id'],\n",
    "        display_name=config['log_group_display_name'],\n",
    "        defined_tags=config['defined_tags']\n",
    "    )\n",
    ")\n",
    "\n",
    "# Step 2: Retrieve OCID for the created log group\n",
    "list_log_groups_response = log_client.list_log_groups( \n",
    "    compartment_id=config['compartment_id'],\n",
    "    sort_by=\"displayName\",\n",
    "    sort_order=\"DESC\")\n",
    "\n",
    "for log_group in list_log_groups_response.data:    \n",
    "    if log_group.display_name == config['log_group_display_name']:\n",
    "        log_group_id = log_group.id\n",
    "        \n",
    "# Step 3: Create a custom log inside the created log group\n",
    "log = log_client.create_log(\n",
    "    log_group_id=log_group_id,\n",
    "    create_log_details=CreateLogDetails(\n",
    "        display_name=config['custom_log_display_name'],\n",
    "        log_type=\"CUSTOM\",\n",
    "        retention_duration=30,\n",
    "        defined_tags=config['defined_tags']\n",
    "    )\n",
    ")\n",
    "\n",
    "# Step 4: Retrieve custom log OCID\n",
    "list_log_groups_response = log_client.list_logs( \n",
    "    log_group_id=log_group_id,\n",
    "    sort_by=\"displayName\",\n",
    "    sort_order=\"DESC\")\n",
    "\n",
    "for log in list_log_groups_response.data:    \n",
    "    if log.display_name == config['custom_log_display_name']:\n",
    "        log_id = log.id"
   ]
  },
  {
   "cell_type": "markdown",
   "metadata": {},
   "source": [
    "### PIPELINE DEFINITION"
   ]
  },
  {
   "cell_type": "code",
   "execution_count": null,
   "metadata": {},
   "outputs": [],
   "source": []
  },
  {
   "cell_type": "markdown",
   "metadata": {},
   "source": [
    "### DATA INTEGRATION "
   ]
  },
  {
   "cell_type": "code",
   "execution_count": null,
   "metadata": {},
   "outputs": [],
   "source": [
    "# Step 1: Create a Data Integration project\n",
    "project = data_integration_client.create_project(\n",
    "    workspace_id=config['workspace_id'],\n",
    "    create_project_details=oci.data_integration.models.CreateProjectDetails(\n",
    "        name=config['odi_project_name']\n",
    "    )\n",
    ")\n",
    "\n"
   ]
  }
 ],
 "metadata": {
  "kernelspec": {
   "display_name": "useCases_env",
   "language": "python",
   "name": "python3"
  },
  "language_info": {
   "codemirror_mode": {
    "name": "ipython",
    "version": 3
   },
   "file_extension": ".py",
   "mimetype": "text/x-python",
   "name": "python",
   "nbconvert_exporter": "python",
   "pygments_lexer": "ipython3",
   "version": "3.7.10"
  }
 },
 "nbformat": 4,
 "nbformat_minor": 2
}
