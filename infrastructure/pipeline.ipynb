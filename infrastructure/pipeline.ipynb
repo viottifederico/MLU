{
 "cells": [
  {
   "cell_type": "code",
   "execution_count": null,
   "metadata": {},
   "outputs": [],
   "source": [
    "# install virgin environment\n",
    "!odsc conda install --uri <oci://my-bucket@my-namespace/path_to_tar_file>\n",
    "\n",
    "# modify environment\n",
    "!pip install ...\n",
    "\n",
    "# publish in project-specific bucket final env with project-specific name\n",
    "!odsc conda init -b <proj-specific-bucket-name> -n <your-tenancy-namespace> -a resource_principal\n",
    "!odsc conda publish -s <slug> --force"
   ]
  },
  {
   "cell_type": "markdown",
   "metadata": {},
   "source": [
    "Here we have to define the infrastructure operations for the first deploy and maybe the update of the infrastructure if a re-deploy is needed\n",
    "\n",
    "* creation of log group and custom log to be used in data science pipeline\n",
    "* creation of data science pipeline --> here we should in future define a wrapper to let data scientist define if to use 1 or more steps\n",
    "* creation of project - task - application - publishing task to application - scheduler - scheduled task\n",
    "\n",
    "in future maybe also add the monitoring of infrastructure"
   ]
  },
  {
   "cell_type": "code",
   "execution_count": null,
   "metadata": {},
   "outputs": [],
   "source": [
    "import oci\n",
    "from oci.logging.models import CreateLogDetails, UpdateLogDetails, CreateLogGroupDetails\n",
    "\n",
    "# Initialize the signer with Resource Principal\n",
    "resource_principal_signer = oci.auth.signers.get_resource_principals_signer()"
   ]
  },
  {
   "cell_type": "markdown",
   "metadata": {},
   "source": [
    "### LOGGING STEP"
   ]
  },
  {
   "cell_type": "code",
   "execution_count": null,
   "metadata": {},
   "outputs": [],
   "source": [
    "# CREATE LOG GROUP\n",
    "# Create a logging client with the signer\n",
    "log_client = oci.logging.LoggingManagementClient({}, signer=resource_principal_signer)\n",
    "\n",
    "log_group = log_client.create_log_group(\n",
    "    CreateLogGroupDetails(\n",
    "        compartment_id=\"ocid1.compartment.oc1..aaaaaaaagds646vklqyxsj2t2lmaexhpraeak44qmyyg2rymurl45svpwcla\",\n",
    "        display_name=\"test-iaas-log-group\",\n",
    "        defined_tags={\"Sisal\":{\"environment\":\"dev\",\"factory\":\"Digital\",\"country\":\"Italy\"}}\n",
    "    )\n",
    ")\n",
    "\n",
    "\n",
    "# RETRIEVE OCID FOR THE CREATED LOG GROUP\n",
    "list_log_groups_response = log_client.list_log_groups( \n",
    "    compartment_id=\"ocid1.compartment.oc1..aaaaaaaagds646vklqyxsj2t2lmaexhpraeak44qmyyg2rymurl45svpwcla\",\n",
    "    sort_by=\"displayName\",\n",
    "    sort_order=\"DESC\")\n",
    "\n",
    "for log_group in list_log_groups_response.data:    \n",
    "    if log_group.display_name == \"test-iaas-log-group\":\n",
    "        print(f\"log group ocid: {log_group.id}\")\n",
    "        log_group_id = log_group.id\n",
    "\n",
    "\n",
    "# CREATE CUSTOM LOG\n",
    "log = log_client.create_log(\n",
    "    log_group_id=log_group_id,\n",
    "    create_log_details=CreateLogDetails(\n",
    "        display_name=\"test-iaas-custom-log\",\n",
    "        log_type=\"CUSTOM\",\n",
    "        retention_duration=30,\n",
    "        defined_tags={\"Sisal\":{\"environment\":\"dev\",\"factory\":\"Digital\",\"country\":\"Italy\"}}\n",
    "    )\n",
    ")\n",
    "\n",
    "\n",
    "# RETRIEVE CUSTOM LOG OCID\n",
    "list_log_groups_response = log_client.list_logs( \n",
    "    log_group_id=log_group_id,\n",
    "    sort_by=\"displayName\",\n",
    "    sort_order=\"DESC\")\n",
    "\n",
    "for log_group in list_log_groups_response.data:    \n",
    "    if log_group.display_name == \"test-iaas-custom-log\":\n",
    "        print(f\"log ocid: {log_group.id}\")\n",
    "        log_group_id = log_group.id"
   ]
  },
  {
   "cell_type": "markdown",
   "metadata": {},
   "source": [
    "### PIPELINE DEFINITION"
   ]
  },
  {
   "cell_type": "code",
   "execution_count": null,
   "metadata": {},
   "outputs": [],
   "source": []
  },
  {
   "cell_type": "markdown",
   "metadata": {},
   "source": [
    "### DATA INTEGRATION "
   ]
  },
  {
   "cell_type": "code",
   "execution_count": null,
   "metadata": {},
   "outputs": [],
   "source": [
    "# CREATE PROJECT\n",
    "# Initialize the OCI Data Integration client with the signer\n",
    "data_integration = oci.data_integration.DataIntegrationClient({}, signer=resource_principal_signer)\n",
    "\n",
    "# Step 1: Create a Data Integration project\n",
    "project = data_integration.create_project(\n",
    "    workspace_id=\"ocid1.disworkspace.oc1.eu-frankfurt-1.antheljr2ow634yalr47c3ncgnbmekjdjmooy4q7nplc66byelvsas6kpb2q\",\n",
    "    create_project_details=oci.data_integration.models.CreateProjectDetails(\n",
    "        name=\"test-iaas-project\"\n",
    "    )\n",
    ")\n",
    "\n",
    "# CREATE REST TASK\n",
    "# Step 2: Create a REST task inside the project\n",
    "pipeline_id = \"YOUR_PIPELINE_ID\"  # Replace with the actual pipeline ID\n",
    "defined_tags = {\"key1\": \"value1\", \"key2\": \"value2\"}\n",
    "\n",
    "rest_task = data_integration.create_task(\n",
    "    create_task_details=oci.data_integration.models.CreateTaskDetails(\n",
    "        name=\"test-rest-task\",\n",
    "        model_type=\"REST\",\n",
    "        details=oci.data_integration.models.CreateDataIntegrationTaskFromRestTask(\n",
    "            endpoint=\"https://datascience.eu-frankfurt-1.oci.oraclecloud.com/20190101/pipelineRuns\",\n",
    "            method=oci.data_integration.models.CreateRestTaskDetails.MethodType.POST,\n",
    "            request_headers={\"Content-Type\": \"application/json\"},\n",
    "            request_body=oci.data_integration.models.CreateRestTaskFromDataLoaderTaskRestModel(\n",
    "                projectId=project.id,\n",
    "                compartmentId=compartment_id,\n",
    "                pipelineId=pipeline_id,\n",
    "                displayName=display_name,\n",
    "                definedTags=defined_tags\n",
    "            )\n",
    "        )\n",
    "    ),\n",
    "    project.id\n",
    ")\n",
    "\n",
    "# VALIDATE REST TASK\n",
    "\n",
    "\n",
    "# CREATE APPLICATION\n",
    "\n",
    "\n",
    "# PUBLISH REST TASK IN APPLICATION\n",
    "\n",
    "\n",
    "# CREATE SCHEDULER\n",
    "\n",
    "\n",
    "# CREATE SCHEDULED TASK\n"
   ]
  }
 ],
 "metadata": {
  "kernelspec": {
   "display_name": "useCases_env",
   "language": "python",
   "name": "python3"
  },
  "language_info": {
   "name": "python",
   "version": "3.7.10"
  }
 },
 "nbformat": 4,
 "nbformat_minor": 2
}
