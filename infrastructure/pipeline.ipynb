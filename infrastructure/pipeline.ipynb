{
 "cells": [
  {
   "cell_type": "code",
   "execution_count": null,
   "metadata": {},
   "outputs": [],
   "source": [
    "# install virgin environment\n",
    "!odsc conda install --uri <oci://my-bucket@my-namespace/path_to_tar_file>\n",
    "\n",
    "# modify environment\n",
    "!pip install ...\n",
    "\n",
    "# publish in project-specific bucket final env with project-specific name\n",
    "!odsc conda init -b <proj-specific-bucket-name> -n <your-tenancy-namespace> -a resource_principal\n",
    "!odsc conda publish -s <slug> --force"
   ]
  }
 ],
 "metadata": {
  "language_info": {
   "name": "python"
  }
 },
 "nbformat": 4,
 "nbformat_minor": 2
}
