{
 "cells": [
  {
   "cell_type": "code",
   "execution_count": null,
   "metadata": {},
   "outputs": [],
   "source": [
    "# SECTION TO BE FOLLOWED IN THIS STEP\n",
    "\n",
    "# 1 Read data from bucket or from Delta with queries\n",
    "    # - read input data for model\n",
    "    # - read prediction data for model\n",
    "    # - read ground thruth for specific prediction (if exists) -> manage the case in which you don't have it\n",
    "    # - read reference input data (could be train, test, validation or a specific input dataset) -> should contain also reference label for prediction drifts\n",
    "\n",
    "# 2 process tables if needed before computing quality\n",
    "\n",
    "# 3 define evidenlty report to be created sistematically\n",
    "\n",
    "# 4 compute report and save both the html version of report and the evidently json format of the report for monitoring dashboard purpose\n"
   ]
  }
 ],
 "metadata": {
  "language_info": {
   "name": "python"
  }
 },
 "nbformat": 4,
 "nbformat_minor": 2
}
